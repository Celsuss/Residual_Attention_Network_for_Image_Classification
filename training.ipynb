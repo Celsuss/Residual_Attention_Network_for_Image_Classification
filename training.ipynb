{
 "nbformat": 4,
 "nbformat_minor": 2,
 "metadata": {
  "language_info": {
   "name": "python",
   "codemirror_mode": {
    "name": "ipython",
    "version": 3
   },
   "version": "3.6.7-final"
  },
  "orig_nbformat": 2,
  "file_extension": ".py",
  "mimetype": "text/x-python",
  "name": "python",
  "npconvert_exporter": "python",
  "pygments_lexer": "ipython3",
  "version": 3,
  "kernelspec": {
   "name": "python36764bit1e39c9a795c4477489becf06625292af",
   "display_name": "Python 3.6.7 64-bit"
  }
 },
 "cells": [
  {
   "cell_type": "code",
   "execution_count": 1,
   "metadata": {},
   "outputs": [
    {
     "name": "stdout",
     "output_type": "stream",
     "text": "Tensorflow version: 2.1.0\n"
    }
   ],
   "source": [
    "import tensorflow.keras.layers as layers\n",
    "import tensorflow.keras as keras\n",
    "import tensorflow as tf\n",
    "import numpy as np\n",
    "import utils\n",
    "import dataProcessing\n",
    "from models.model import AttentionResNet\n",
    "from models.refModel import RefConvNet\n",
    "\n",
    "print('Tensorflow version: {}'.format(tf.__version__))"
   ]
  },
  {
   "cell_type": "code",
   "execution_count": 2,
   "metadata": {},
   "outputs": [],
   "source": [
    "seed = 1\n",
    "tf.random.set_seed(seed)"
   ]
  },
  {
   "cell_type": "code",
   "execution_count": 3,
   "metadata": {},
   "outputs": [],
   "source": [
    "# TODO: Uncomment this, only for debuging\n",
    "# @tf.function\n",
    "def trainStep(model, x, y, loss_op, optimizer, train_loss, train_accuracy):\n",
    "    with tf.GradientTape() as tape:\n",
    "        predictions = model(x)\n",
    "        loss = loss_op(y, predictions)\n",
    "\n",
    "    gradients = tape.gradient(loss, model.trainable_variables)\n",
    "    optimizer.apply_gradients(zip(gradients, model.trainable_variables))\n",
    "\n",
    "    train_loss(loss)\n",
    "    train_accuracy(y, predictions)\n",
    "    \n",
    "# TODO: Uncomment this, only for debuging\n",
    "# @tf.function\n",
    "def testStep(model, x, y, loss_op, test_loss, test_accuracy):\n",
    "    predictions = model(x)\n",
    "    loss = loss_op(y, predictions)\n",
    "\n",
    "    test_loss(loss)\n",
    "    test_accuracy(y, predictions)"
   ]
  },
  {
   "cell_type": "code",
   "execution_count": 4,
   "metadata": {},
   "outputs": [
    {
     "name": "stdout",
     "output_type": "stream",
     "text": "Data shape: (28, 28, 1)\n"
    }
   ],
   "source": [
    "# x_train, y_train, x_test, y_test = utils.getCifar10Dataset()\n",
    "x_train, y_train, x_test, y_test = utils.getMNISTDataset()\n",
    "\n",
    "x_train = dataProcessing.normalize(x_train)\n",
    "x_test = dataProcessing.normalize(x_test)\n",
    "y_train = keras.utils.to_categorical(y_train)\n",
    "y_test = keras.utils.to_categorical(y_test)\n",
    "\n",
    "print('Data shape: {}'.format(x_test.shape[1:]))"
   ]
  },
  {
   "cell_type": "code",
   "execution_count": 5,
   "metadata": {},
   "outputs": [
    {
     "name": "stderr",
     "output_type": "stream",
     "text": "C:\\Users\\Jens\\AppData\\Local\\Programs\\Python\\Python36\\lib\\site-packages\\matplotlib\\text.py:1150: FutureWarning: elementwise comparison failed; returning scalar instead, but in the future will perform elementwise comparison\n  if s != self._text:\n"
    },
    {
     "data": {
      "image/png": "[encoded data removed]",
      "image/svg+xml": "<?xml version=\"1.0\" encoding=\"utf-8\" standalone=\"no\"?>\r\n<!DOCTYPE svg PUBLIC \"-//W3C//DTD SVG 1.1//EN\"\r\n  \"http://www.w3.org/Graphics/SVG/1.1/DTD/svg11.dtd\">\r\n<!-- Created with matplotlib (https://matplotlib.org/) -->\r\n<svg height=\"562.502684pt\" version=\"1.1\" viewBox=\"0 0 549.375 562.502684\" width=\"549.375pt\" xmlns=\"http://www.w3.org/2000/svg\" xmlns:xlink=\"http://www.w3.org/1999/xlink\">\r\n <defs>\r\n  <style type=\"text/css\">\r\n*{stroke-linecap:butt;stroke-linejoin:round;}\r\n  </style>\r\n </defs>\r\n <g id=\"figure_1\">\r\n  <g id=\"patch_1\">\r\n   <path d=\"M 0 562.502684 \r\nL 549.375 562.502684 \r\nL 549.375 0 \r\nL 0 0 \r\nz\r\n\" style=\"fill:none;\"/>\r\n  </g>\r\n  <g id=\"axes_1\">\r\n   <g clip-path=\"url(#pa3fb4541d3)\">\r\n    <image height=\"151\" id=\"imageeda9f10940\" transform=\"scale(1 -1)translate(0 -151)\" width=\"151\" x=\"10.902941\" xlink:href=\"data:image/png;base64,\r\niVBORw0KGgoAAAANSUhEUgAAAJcAAACXCAYAAAAYn8l5AAAABHNCSVQICAgIfAhkiAAABXVJREFUeJzt3X9o1HUcx/HP1ztzXi3XWuYknHOrzbQ2cNTMsYLK/EMEqVj7o2BRUWKjWvSHBFYUOfoBErVACA0G2gxB6Md/NgTNNozC9WO0tWi6TraxZXM4d3f90Z/vz9Gdd695uz0ff774fL/3Ybz24fPle9/vBQ8EjyQcILDoak8A+YtyQYZyQYZyQYZyQYZyQYZyQYZyQYZyQYZyQYZyQYZyQYZyQYZyQYZyQSasOnF/x10229aR0Tk/nKjw5nu7N5ssiAUmq37zd+/xsej5jOYFP1YuyFAuyFAuyFAuyFAuyASqp39mHqqz2YvjJttV+aX3+M1Lp7I+p2hs2ps3Hm0zWfWrv5gsNjGZ9TnlM1YuyFAuyFAuyFAuyMg29KkKl67w5uOfXGuy58q7vWObC6NZnZNzzu0822Cy0x213rElh8+YLH7hQtbnNN+wckGGckGGckGGckHmqm/o0xFevcqbT24oNVnTG1+b7NmiwazPyTnn2kbqTXbyI3uHwjnnivd/Z8N4LNtTygmsXJChXJChXJChXJChXJCZV1eL6QiXl5lsoGWld+xrTQdN9vB1o1mfk3PO7Yraq8juvfZq84YDJyWfP5dYuSBDuSBDuSBDuSCTtxv6dAR1603W33qNyfZtOuA9vrFgJqPPv5S4bLLHftvuHXv5vpGMPmsusXJBhnJBhnJBhnJBhnJBhqvFNMQb/E//DDxaYLL1tUPesZ9XfpHSZ7WPrfPmx2vtU1G5+mVDVi7IUC7IUC7IUC7IsKGfY58N2+9pRQJ7q+liwn9LaevzL9jjj5zKfGICrFyQoVyQoVyQoVyQkf08y0ISunm5yc41VXrHFgQ9KZ3z6aGt3jxXN+8+rFyQoVyQoVyQoVyQoVyQ4WoxDYlN/u9zRfYMm6xnzQdJzmL/n6uPPWWyqteT/RTMWLLp5RxWLshQLshQLshQLsiwoU9i/MmNJuvc/a53bHnYPqCRzLpPd5qsep99RH92cCjlc+YqVi7IUC7IUC7IUC7IUC7IcLXonFtUs9ZkB3e/Y7K+GfulQOec295rX9SW+H6Zd2z5W/bpn9lEfj6AxcoFGcoFGcoFGcoFmQW1oQ8V+TfZxR329suq8FKTPf7KE97jbzn0bWYTy1OsXJChXJChXJChXJBZUBv6n9tv8+b9ZR+brOWP+01W2JXao/j4DysXZCgXZCgXZCgXZCgXZPLiajFUcqPJYmPjJlt8feo/utnXebvJlsdPpDexBY6VCzKUCzKUCzKUCzLzakM/3mIfsXfOub+3TJks9GOVyfoak70zy9r2TLfJejpLvGNjE/ZdWomNNd6xQ602K2/+IeV5zSesXJChXJChXJChXJDJ2d9bDJeuMFnTsV7v2ObCqHo6zjnn2kbqvfngP3ajv7/isHfsZNz+uXeUNWQ2sRzFygUZygUZygUZygUZygWZnL39c6lqpck2FPyZZLT9dXuF90rTeWzf/4bnSBAzWbT1HpOFp1K/iC88O+vNl4xOmyzReybl82aKlQsylAsylAsylAsyOXv7xye09lZvnliy2GTn7i0y2XS9/d6Xc84VL7P58ZpDac7uyn11sdBk7QNbvGO/uaPLZMOzduPunHN7og+a7Ke37zRZ5Mip/5viFWHlggzlggzlggzlggzlgsy8ulpUCcL2LljoJv+TPqn69eXV3jwWiZusrOK8ySI7Au/xf71vb3WdrvNf2Y7G7FXw3V1tJqt8SfM2alYuyFAuyFAuyFAuyLChhwwrF2QoF2QoF2QoF2QoF2QoF2QoF2QoF2QoF2QoF2QoF2QoF2QoF2QoF2QoF2QoF2QoF2QoF2QoF2QoF2QoF2QoF2QoF2QoF2QoF2QoF2T+BdUV7fulwYNlAAAAAElFTkSuQmCC\" y=\"-22.087243\"/>\r\n   </g>\r\n   <g id=\"text_1\">\r\n    <!-- [0. 0. 0. 0. 0. 1. 0. 0. 0. 0.] -->\r\n    <defs>\r\n     <path d=\"M 8.59375 75.984375 \r\nL 29.296875 75.984375 \r\nL 29.296875 69 \r\nL 17.578125 69 \r\nL 17.578125 -6.203125 \r\nL 29.296875 -6.203125 \r\nL 29.296875 -13.1875 \r\nL 8.59375 -13.1875 \r\nz\r\n\" id=\"DejaVuSans-91\"/>\r\n     <path d=\"M 31.78125 66.40625 \r\nQ 24.171875 66.40625 20.328125 58.90625 \r\nQ 16.5 51.421875 16.5 36.375 \r\nQ 16.5 21.390625 20.328125 13.890625 \r\nQ 24.171875 6.390625 31.78125 6.390625 \r\nQ 39.453125 6.390625 43.28125 13.890625 \r\nQ 47.125 21.390625 47.125 36.375 \r\nQ 47.125 51.421875 43.28125 58.90625 \r\nQ 39.453125 66.40625 31.78125 66.40625 \r\nz\r\nM 31.78125 74.21875 \r\nQ 44.046875 74.21875 50.515625 64.515625 \r\nQ 56.984375 54.828125 56.984375 36.375 \r\nQ 56.984375 17.96875 50.515625 8.265625 \r\nQ 44.046875 -1.421875 31.78125 -1.421875 \r\nQ 19.53125 -1.421875 13.0625 8.265625 \r\nQ 6.59375 17.96875 6.59375 36.375 \r\nQ 6.59375 54.828125 13.0625 64.515625 \r\nQ 19.53125 74.21875 31.78125 74.21875 \r\nz\r\n\" id=\"DejaVuSans-48\"/>\r\n     <path d=\"M 10.6875 12.40625 \r\nL 21 12.40625 \r\nL 21 0 \r\nL 10.6875 0 \r\nz\r\n\" id=\"DejaVuSans-46\"/>\r\n     <path id=\"DejaVuSans-32\"/>\r\n     <path d=\"M 12.40625 8.296875 \r\nL 28.515625 8.296875 \r\nL 28.515625 63.921875 \r\nL 10.984375 60.40625 \r\nL 10.984375 69.390625 \r\nL 28.421875 72.90625 \r\nL 38.28125 72.90625 \r\nL 38.28125 8.296875 \r\nL 54.390625 8.296875 \r\nL 54.390625 0 \r\nL 12.40625 0 \r\nz\r\n\" id=\"DejaVuSans-49\"/>\r\n     <path d=\"M 30.421875 75.984375 \r\nL 30.421875 -13.1875 \r\nL 9.71875 -13.1875 \r\nL 9.71875 -6.203125 \r\nL 21.390625 -6.203125 \r\nL 21.390625 69 \r\nL 9.71875 69 \r\nL 9.71875 75.984375 \r\nz\r\n\" id=\"DejaVuSans-93\"/>\r\n    </defs>\r\n    <g transform=\"translate(7.2 16.318125)scale(0.12 -0.12)\">\r\n     <use xlink:href=\"#DejaVuSans-91\"/>\r\n     <use x=\"39.013672\" xlink:href=\"#DejaVuSans-48\"/>\r\n     <use x=\"102.636719\" xlink:href=\"#DejaVuSans-46\"/>\r\n     <use x=\"134.423828\" xlink:href=\"#DejaVuSans-32\"/>\r\n     <use x=\"166.210938\" xlink:href=\"#DejaVuSans-48\"/>\r\n     <use x=\"229.833984\" xlink:href=\"#DejaVuSans-46\"/>\r\n     <use x=\"261.621094\" xlink:href=\"#DejaVuSans-32\"/>\r\n     <use x=\"293.408203\" xlink:href=\"#DejaVuSans-48\"/>\r\n     <use x=\"357.03125\" xlink:href=\"#DejaVuSans-46\"/>\r\n     <use x=\"388.818359\" xlink:href=\"#DejaVuSans-32\"/>\r\n     <use x=\"420.605469\" xlink:href=\"#DejaVuSans-48\"/>\r\n     <use x=\"484.228516\" xlink:href=\"#DejaVuSans-46\"/>\r\n     <use x=\"516.015625\" xlink:href=\"#DejaVuSans-32\"/>\r\n     <use x=\"547.802734\" xlink:href=\"#DejaVuSans-48\"/>\r\n     <use x=\"611.425781\" xlink:href=\"#DejaVuSans-46\"/>\r\n     <use x=\"643.212891\" xlink:href=\"#DejaVuSans-32\"/>\r\n     <use x=\"675\" xlink:href=\"#DejaVuSans-49\"/>\r\n     <use x=\"738.623047\" xlink:href=\"#DejaVuSans-46\"/>\r\n     <use x=\"770.410156\" xlink:href=\"#DejaVuSans-32\"/>\r\n     <use x=\"802.197266\" xlink:href=\"#DejaVuSans-48\"/>\r\n     <use x=\"865.820312\" xlink:href=\"#DejaVuSans-46\"/>\r\n     <use x=\"897.607422\" xlink:href=\"#DejaVuSans-32\"/>\r\n     <use x=\"929.394531\" xlink:href=\"#DejaVuSans-48\"/>\r\n     <use x=\"993.017578\" xlink:href=\"#DejaVuSans-46\"/>\r\n     <use x=\"1024.804688\" xlink:href=\"#DejaVuSans-32\"/>\r\n     <use x=\"1056.591797\" xlink:href=\"#DejaVuSans-48\"/>\r\n     <use x=\"1120.214844\" xlink:href=\"#DejaVuSans-46\"/>\r\n     <use x=\"1152.001953\" xlink:href=\"#DejaVuSans-32\"/>\r\n     <use x=\"1183.789062\" xlink:href=\"#DejaVuSans-48\"/>\r\n     <use x=\"1247.412109\" xlink:href=\"#DejaVuSans-46\"/>\r\n     <use x=\"1279.199219\" xlink:href=\"#DejaVuSans-93\"/>\r\n    </g>\r\n   </g>\r\n  </g>\r\n  <g id=\"axes_2\">\r\n   <g clip-path=\"url(#p3b8a22a754)\">\r\n    <image height=\"151\" id=\"image14e0ea7283\" transform=\"scale(1 -1)translate(0 -151)\" width=\"151\" x=\"199.302941\" xlink:href=\"data:image/png;base64,\r\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\" y=\"-22.087243\"/>\r\n   </g>\r\n   <g id=\"text_2\">\r\n    <!-- [1. 0. 0. 0. 0. 0. 0. 0. 0. 0.] -->\r\n    <g transform=\"translate(195.6 16.318125)scale(0.12 -0.12)\">\r\n     <use xlink:href=\"#DejaVuSans-91\"/>\r\n     <use x=\"39.013672\" xlink:href=\"#DejaVuSans-49\"/>\r\n     <use x=\"102.636719\" xlink:href=\"#DejaVuSans-46\"/>\r\n     <use x=\"134.423828\" xlink:href=\"#DejaVuSans-32\"/>\r\n     <use x=\"166.210938\" xlink:href=\"#DejaVuSans-48\"/>\r\n     <use x=\"229.833984\" xlink:href=\"#DejaVuSans-46\"/>\r\n     <use x=\"261.621094\" xlink:href=\"#DejaVuSans-32\"/>\r\n     <use x=\"293.408203\" xlink:href=\"#DejaVuSans-48\"/>\r\n     <use x=\"357.03125\" xlink:href=\"#DejaVuSans-46\"/>\r\n     <use x=\"388.818359\" xlink:href=\"#DejaVuSans-32\"/>\r\n     <use x=\"420.605469\" xlink:href=\"#DejaVuSans-48\"/>\r\n     <use x=\"484.228516\" xlink:href=\"#DejaVuSans-46\"/>\r\n     <use x=\"516.015625\" xlink:href=\"#DejaVuSans-32\"/>\r\n     <use x=\"547.802734\" xlink:href=\"#DejaVuSans-48\"/>\r\n     <use x=\"611.425781\" xlink:href=\"#DejaVuSans-46\"/>\r\n     <use x=\"643.212891\" xlink:href=\"#DejaVuSans-32\"/>\r\n     <use x=\"675\" xlink:href=\"#DejaVuSans-48\"/>\r\n     <use x=\"738.623047\" xlink:href=\"#DejaVuSans-46\"/>\r\n     <use x=\"770.410156\" xlink:href=\"#DejaVuSans-32\"/>\r\n     <use x=\"802.197266\" xlink:href=\"#DejaVuSans-48\"/>\r\n     <use x=\"865.820312\" xlink:href=\"#DejaVuSans-46\"/>\r\n     <use x=\"897.607422\" xlink:href=\"#DejaVuSans-32\"/>\r\n     <use x=\"929.394531\" xlink:href=\"#DejaVuSans-48\"/>\r\n     <use x=\"993.017578\" xlink:href=\"#DejaVuSans-46\"/>\r\n     <use x=\"1024.804688\" xlink:href=\"#DejaVuSans-32\"/>\r\n     <use x=\"1056.591797\" xlink:href=\"#DejaVuSans-48\"/>\r\n     <use x=\"1120.214844\" xlink:href=\"#DejaVuSans-46\"/>\r\n     <use x=\"1152.001953\" xlink:href=\"#DejaVuSans-32\"/>\r\n     <use x=\"1183.789062\" xlink:href=\"#DejaVuSans-48\"/>\r\n     <use x=\"1247.412109\" xlink:href=\"#DejaVuSans-46\"/>\r\n     <use x=\"1279.199219\" xlink:href=\"#DejaVuSans-93\"/>\r\n    </g>\r\n   </g>\r\n  </g>\r\n  <g id=\"axes_3\">\r\n   <g clip-path=\"url(#p48df52709a)\">\r\n    <image height=\"151\" id=\"imagee8ed309751\" transform=\"scale(1 -1)translate(0 -151)\" width=\"151\" x=\"387.702941\" xlink:href=\"data:image/png;base64,\r\niVBORw0KGgoAAAANSUhEUgAAAJcAAACXCAYAAAAYn8l5AAAABHNCSVQICAgIfAhkiAAABKNJREFUeJzt3U+IlGUcwPFnZmzX3SjWdpU0l7IF2aC/0BBZUcJ0lsg8eAhSKbRLUtBJOhR19eDFjlGnDLYUlMhw3SJqqzVi6Q9m/qlwd0tK0A13x+nW5fcY6bvfmWH2+zn+fN+ZZ+G7D+/rzOyUaqWNjSQByq1egDqXcQljXMIYlzDGJYxxCWNcwhiXMMYljHEJY1zCGJcwxiWMcQljXMIsafUCFpuzO9eF2dcv7Qmz4dEt2fNv33xswddEcecSxriEMS5hjEsY4xLGu8Um667NhFml1Jm/4535U6ktGJcwxiWMcQnjBX0bqDcut3oJCHcuYYxLGOMSxriE8YK+TfWO97Z6CYW5cwljXMIYlzDGJYxxCePdYhvIvp+rA14RcucSxriEMS5hjEsYL+jbQO79XMt+nGvBShaWO5cwxiWMcQljXMIYlzDGJYxxCWNcwhiXMMYljC//tKlTG0rZ+dqDTV5IAe5cwhiXMMYljHEJg13Q//zGg2E2WP2Verpg5uDqMOufzL9HquvQOL2cf108ujwO742j19a/lz3/rTS4wCviuHMJY1zCGJcwxiWMcQlT+G7x+Nv3Zeffr49fUPndXLxb++B85lbpKr3cPxlm5TviyyezjUvZ83+r18Nsz8xjYbb/m3uy5/dNdIXZyg+nsseu3v1VmI0/1wizDdfn76y9W5SScQlkXMIYlzCFL+i7l+ZfUimneEH9zOs7w2zgzc+KLiGNPrItzBqV+Pxnat3Z8y+tij9DuSte5H9U2509/7rH4+zsi/nn2nXiiTBbXpmNj1nKn1+q3hVmjfFvs8e2mjuXMMYljHEJY1zCGJcwTf30T8855k8Ul8cm/tdxtx0p9jw70sPZeWWgP8ymnlybPfamTb/EWTn+ji9Jlez5Uw/cEGYrmvdex6viziWMcQljXMIYlzBNvaCfvj+2vGZfM1fAqP/+R5gN7L3Cy1p74+jRka1hNlF9J3v69udHwmzk3Tvz65qazq+hSdy5hDEuYYxLGOMSpvAF/fzx+D/GKaWU4qf509LhP4s+XUcafOFCmH36cf73fuuN8X/4R/rW5R/YC3p1KuMSxriEMS5hjEuYwneLtx6In1xJKaXpzReLPvSiMX/ydJjtO1fNHvvQys/DbHbNsuyxXT8UW1dR7lzCGJcwxiWMcQlT+IK+/Mmx7Hzs71uKPvSidvJC/NDHlZyp5T/MMXRooVZzbdy5hDEuYYxLGOMSBvuAxlzDr3IsYn5bb/4fjsRRz9B5dC3Xyp1LGOMSxriEMS5hjEsY7JbulQNPhVnv0F/U03Wc+k+nsvPh0S1h9uzdY9ljD1fjp4Ka+Zef3bmEMS5hjEsY4xIGu6BfdTT+cd3ZyT7q6TrP5fj1MCmlVDrdE2aHbx7OP0Yjfo9jM7lzCWNcwhiXMMYljHEJg90t9rz/RZxRT7aIrPgy3oXv2rQ/e+yr6Wl6Of/JnUsY4xLGuIQxLmFKtdLG1r5GoI7lziWMcQljXMIYlzDGJYxxCWNcwhiXMMYljHEJY1zCGJcwxiWMcQljXMIYlzDGJYxxCWNcwhiXMMYljHEJY1zCGJcwxiWMcQnzD5Tbqf4EvEZgAAAAAElFTkSuQmCC\" y=\"-22.087243\"/>\r\n   </g>\r\n   <g id=\"text_3\">\r\n    <!-- [0. 0. 0. 0. 1. 0. 0. 0. 0. 0.] -->\r\n    <g transform=\"translate(384 16.318125)scale(0.12 -0.12)\">\r\n     <use xlink:href=\"#DejaVuSans-91\"/>\r\n     <use x=\"39.013672\" xlink:href=\"#DejaVuSans-48\"/>\r\n     <use x=\"102.636719\" xlink:href=\"#DejaVuSans-46\"/>\r\n     <use x=\"134.423828\" xlink:href=\"#DejaVuSans-32\"/>\r\n     <use x=\"166.210938\" xlink:href=\"#DejaVuSans-48\"/>\r\n     <use x=\"229.833984\" xlink:href=\"#DejaVuSans-46\"/>\r\n     <use x=\"261.621094\" xlink:href=\"#DejaVuSans-32\"/>\r\n     <use x=\"293.408203\" xlink:href=\"#DejaVuSans-48\"/>\r\n     <use x=\"357.03125\" xlink:href=\"#DejaVuSans-46\"/>\r\n     <use x=\"388.818359\" xlink:href=\"#DejaVuSans-32\"/>\r\n     <use x=\"420.605469\" xlink:href=\"#DejaVuSans-48\"/>\r\n     <use x=\"484.228516\" xlink:href=\"#DejaVuSans-46\"/>\r\n     <use x=\"516.015625\" xlink:href=\"#DejaVuSans-32\"/>\r\n     <use x=\"547.802734\" xlink:href=\"#DejaVuSans-49\"/>\r\n     <use x=\"611.425781\" xlink:href=\"#DejaVuSans-46\"/>\r\n     <use x=\"643.212891\" xlink:href=\"#DejaVuSans-32\"/>\r\n     <use x=\"675\" xlink:href=\"#DejaVuSans-48\"/>\r\n     <use x=\"738.623047\" xlink:href=\"#DejaVuSans-46\"/>\r\n     <use x=\"770.410156\" xlink:href=\"#DejaVuSans-32\"/>\r\n     <use x=\"802.197266\" xlink:href=\"#DejaVuSans-48\"/>\r\n     <use x=\"865.820312\" xlink:href=\"#DejaVuSans-46\"/>\r\n     <use x=\"897.607422\" xlink:href=\"#DejaVuSans-32\"/>\r\n     <use x=\"929.394531\" xlink:href=\"#DejaVuSans-48\"/>\r\n     <use x=\"993.017578\" xlink:href=\"#DejaVuSans-46\"/>\r\n     <use x=\"1024.804688\" xlink:href=\"#DejaVuSans-32\"/>\r\n     <use x=\"1056.591797\" xlink:href=\"#DejaVuSans-48\"/>\r\n     <use x=\"1120.214844\" xlink:href=\"#DejaVuSans-46\"/>\r\n     <use x=\"1152.001953\" xlink:href=\"#DejaVuSans-32\"/>\r\n     <use x=\"1183.789062\" xlink:href=\"#DejaVuSans-48\"/>\r\n     <use x=\"1247.412109\" xlink:href=\"#DejaVuSans-46\"/>\r\n     <use x=\"1279.199219\" xlink:href=\"#DejaVuSans-93\"/>\r\n    </g>\r\n   </g>\r\n  </g>\r\n  <g id=\"axes_4\">\r\n   <g clip-path=\"url(#pa05dc4e1b9)\">\r\n    <image height=\"151\" id=\"image194c1a9c0d\" transform=\"scale(1 -1)translate(0 -151)\" width=\"151\" x=\"10.902941\" xlink:href=\"data:image/png;base64,\r\niVBORw0KGgoAAAANSUhEUgAAAJcAAACXCAYAAAAYn8l5AAAABHNCSVQICAgIfAhkiAAABFNJREFUeJzt3V2IVHUYgPEz7m6srTeFyFq7WgQqKFJg2C6FGyVFFxWySnVnXfVppUHBXnTVRURfFJgEQWhSJlh3QRBRRFYUmK4UFpsfVIga4YbsOrPdBu87OIfp2d2ZeX6XL+cM/4vHP+c4Z85Wbq+MzhQSYMFcL0Dty7iEMS5hjEsY4xLGuIQxLmGMSxjjEsa4hDEuYYxLGOMSxriEMS5huud6AWV0X7s8nffvPRNmOwc/D7MPzi9Jz3935WBzC1PKnUsY4xLGuIQxLmGMS5iWulv8+/r+dL5vYF8y7WIXo0ty5xLGuIQxLmGMSxjjEsa4hDEuYYxLGOMSpqX+h7737FQ6//JCX5jduvBCmN1x+fH0/LFdm8Js1VPjYVabnLzUEvUf7lzCGJcwxiWMcQljXMJU2uFtzic+XBNm48O7w2x6ptrwZ96z8f4wq47/XG5hHc6dSxjjEsa4hDEuYVrq6596BkcPh9n0qXjxXuaC/veRxWG2xAv6Uty5hDEuYYxLGOMSxriEaYu7xcwPU7UwW9PT+PlDW78Ps4m9V6THVs+da/yDO4g7lzDGJYxxCWNcwrTF81yZ2oYbwuyhXQfSY+/u+7Ohz9x4+L50vujOXxtfWAdx5xLGuIQxLmGMS5i2vaDP/LInXuQXRVEc2vBWU5+76d4Hw2zmu/iMWadx5xLGuIQxLmGMSxjjEqZtn+fKrHjhn3TeM9Lcn3I5/mycDY429ZFtwZ1LGOMSxriEMS5hOuqCvnrkp3Q+PPZYmO15/qUwG+jKf+ExNDARZn9csyw99uJE/kbpduTOJYxxCWNcwhiXMMYlTEc9LFjGyeeGw+zbR19Nj+2pxK+PNh+7Kz12ajS+ZqB6+nTJ1bUGdy5hjEsY4xLGuITxgr6OrtUrw+zG9/Jf9IwtPhRm9d4cvfb9J8Lsuu1fl1xda3DnEsa4hDEuYYxLGC/oS+geuDqdHzj4cZjVu6A/Oh1n23Y8HmZ9+w+WW9w85M4ljHEJY1zCGJcwxiVMR/36p1kXT55K56u/2BpmR255Jz127WVxtuzp+EdCz+wvt7b5yJ1LGOMSxriEMS5hvKD/Hyzd3Rtmn62Ls6Ioipt7J8Ps7eWfhNnQtifT8/tf+6rk6uaOO5cwxiWMcQljXML4PBfk/Ob16fzNF18PsxU9lTDb+deq9PxPt6wLs5nf8m8OapPx5mE2uXMJY1zCGJcwxiWMcQnj3eIsO/byTWH245Z4B1lP9i6w2x55OD124UffNL4wgDuXMMYljHEJY1zC+DzXLFt0Iv57PlubCrMrFyS/5Ggx7lzCGJcwxiWMcQljXMJ4tzjL+l+Jv94ZueqZMDv6wBvp+dnXP0V81nBecOcSxriEMS5hjEsYn+cSxp1LGOMSxriEMS5hjEsY4xLGuIQxLmGMSxjjEsa4hDEuYYxLGOMSxriEMS5hjEsY4xLGuIQxLmGMSxjjEsa4hDEuYYxLGOMS5l9GtaYPeJEa2gAAAABJRU5ErkJggg==\" y=\"-210.487243\"/>\r\n   </g>\r\n   <g id=\"text_4\">\r\n    <!-- [0. 1. 0. 0. 0. 0. 0. 0. 0. 0.] -->\r\n    <g transform=\"translate(7.2 204.718125)scale(0.12 -0.12)\">\r\n     <use xlink:href=\"#DejaVuSans-91\"/>\r\n     <use x=\"39.013672\" xlink:href=\"#DejaVuSans-48\"/>\r\n     <use x=\"102.636719\" xlink:href=\"#DejaVuSans-46\"/>\r\n     <use x=\"134.423828\" xlink:href=\"#DejaVuSans-32\"/>\r\n     <use x=\"166.210938\" xlink:href=\"#DejaVuSans-49\"/>\r\n     <use x=\"229.833984\" xlink:href=\"#DejaVuSans-46\"/>\r\n     <use x=\"261.621094\" xlink:href=\"#DejaVuSans-32\"/>\r\n     <use x=\"293.408203\" xlink:href=\"#DejaVuSans-48\"/>\r\n     <use x=\"357.03125\" xlink:href=\"#DejaVuSans-46\"/>\r\n     <use x=\"388.818359\" xlink:href=\"#DejaVuSans-32\"/>\r\n     <use x=\"420.605469\" xlink:href=\"#DejaVuSans-48\"/>\r\n     <use x=\"484.228516\" xlink:href=\"#DejaVuSans-46\"/>\r\n     <use x=\"516.015625\" xlink:href=\"#DejaVuSans-32\"/>\r\n     <use x=\"547.802734\" xlink:href=\"#DejaVuSans-48\"/>\r\n     <use x=\"611.425781\" xlink:href=\"#DejaVuSans-46\"/>\r\n     <use x=\"643.212891\" xlink:href=\"#DejaVuSans-32\"/>\r\n     <use x=\"675\" xlink:href=\"#DejaVuSans-48\"/>\r\n     <use x=\"738.623047\" xlink:href=\"#DejaVuSans-46\"/>\r\n     <use x=\"770.410156\" xlink:href=\"#DejaVuSans-32\"/>\r\n     <use x=\"802.197266\" xlink:href=\"#DejaVuSans-48\"/>\r\n     <use x=\"865.820312\" xlink:href=\"#DejaVuSans-46\"/>\r\n     <use x=\"897.607422\" xlink:href=\"#DejaVuSans-32\"/>\r\n     <use x=\"929.394531\" xlink:href=\"#DejaVuSans-48\"/>\r\n     <use x=\"993.017578\" xlink:href=\"#DejaVuSans-46\"/>\r\n     <use x=\"1024.804688\" xlink:href=\"#DejaVuSans-32\"/>\r\n     <use x=\"1056.591797\" xlink:href=\"#DejaVuSans-48\"/>\r\n     <use x=\"1120.214844\" xlink:href=\"#DejaVuSans-46\"/>\r\n     <use x=\"1152.001953\" xlink:href=\"#DejaVuSans-32\"/>\r\n     <use x=\"1183.789062\" xlink:href=\"#DejaVuSans-48\"/>\r\n     <use x=\"1247.412109\" xlink:href=\"#DejaVuSans-46\"/>\r\n     <use x=\"1279.199219\" xlink:href=\"#DejaVuSans-93\"/>\r\n    </g>\r\n   </g>\r\n  </g>\r\n  <g id=\"axes_5\">\r\n   <g clip-path=\"url(#p6375a50044)\">\r\n    <image height=\"151\" id=\"imageba00b6e754\" transform=\"scale(1 -1)translate(0 -151)\" width=\"151\" x=\"199.302941\" xlink:href=\"data:image/png;base64,\r\niVBORw0KGgoAAAANSUhEUgAAAJcAAACXCAYAAAAYn8l5AAAABHNCSVQICAgIfAhkiAAABUNJREFUeJzt3W1olWUcx/Hr7Gxn84y1ZqJQ+VCsNDCzGFgLkeRob8pIJ82icgi1SMWBhFKvmr3KESbFhEgRgqAkEnphZeAr57IyobZaD5smS9TYWrjNPZze9//fdQ6n33mY38/LH9e9XWy/XVwX97nvxVKxpnQABMoKPQHMXJQLMpQLMpQLMuWFnsBMEJ9zk8l6Oxa6Y3tSB0y2bsMWO7DrbM7zKjRWLshQLshQLshQLshQLshwWsyCdyoMIYTEEftj7Km3p8IQQlj17SaTze4dMNlUlnMrRqxckKFckKFckKFckGFDn4ULTy928+76fSZr6V/rjq19NWmyqaHh3CZWpFi5IEO5IEO5IEO5IEO5IMNpMQttz3+Y8djB9no3T3R9+X9Np+ixckGGckGGckGGckGGDX2E9IPLTbb5hjPu2Im0/RtNfjfojp3MbVolhZULMpQLMpQLMpQLMmzoI1xYZT93NZH2H5uYDtPq6ZQkVi7IUC7IUC7IUC7IUC7IcFqMUPsLJ8BcsXJBhnJBhnJBhnJBhg19hJr3u2zYkf95lDJWLshQLshQLshQLshQLshwWoww0ny/k36V93mUMlYuyFAuyFAuyFAuyLChj1A+aj/PVRGLu2Mn0jb7dfMCd+z89t9ymlcpYeWCDOWCDOWCDOWCTNFu6K893GCyvZ1vu2OXJexG+/Cft5hsz4l17vV3HhozWc3ZiyZrObfSvb5z/hcmG110zR17PWHlggzlggzlggzlggzlgkwsFWtybl7kT3zeXDffdfJTk62onHDHljl/I7m+kO3z0RqTxYP/o3po1l8mOzVe4Y597Xb7luiZipULMpQLMpQLMpQLMgW//ROrqnTzqM2757FUs/26V+0tnb7WW93r16a+Nlnb3OMmW1A+y73eOzo0JPzbP0PPPGCyGw+fdMeWOlYuyFAuyFAuyFAuyFAuyBT8tJgeG3fz0+P2A4ANlf7/3hl9057MEmvOm+y23TYLIYS+3Tbbuvw5ky19t8e9fs+8bpPFYzF3bPqJy3bs0VqTTQ0Nu9eXElYuyFAuyFAuyFAuyBT881xRfu6w78fqaX7LHTs8bW/1bOx90mRV6/9wr58eGcloTmXV1W5+pWmZyT5uf90dOydubyEt+eBFk9XvcN4mXWJYuSBDuSBDuSBDuSBTtBt6T9/+FW7+w3r7mL/3gMZdn7W61y/Z2W+yqctXspvcPzz+/SU3b6m138uz8uXtbl53qHQ++8XKBRnKBRnKBRnKBRnKBZmSOi1G+b2t0WTdO/dlfP3Gnx412eQG+/RRNifIi9vsnEII4dSuzOZ17Kr9jFcIIRxYvdpkk+eL8w3RrFyQoVyQoVyQoVyQmREb+lhFwmRjqXtMdrDzDff6m8vtKwW2DKwx2cDexe711Z+cMVlZMumOLfuoymRH7jhqx0X83S89uNVki14pzltCrFyQoVyQoVyQoVyQmREb+kxdarXvxgohhP0v2Qc/vKe7ozbZz/anTHZv7Tl37Pa63n+b4n9+r8ZvNpls9iM/ZvQ1842VCzKUCzKUCzKUCzKUCzLX1WkxivePQweesk8PvXDfCff6HXWZn9bufmebyZKD9lcw1Oi/t2zhe3Y9SBw7nfH3zydWLshQLshQLshQLsiwoYcMKxdkKBdkKBdkKBdkKBdkKBdkKBdkKBdkKBdkKBdkKBdkKBdkKBdkKBdkKBdkKBdkKBdkKBdkKBdkKBdkKBdkKBdkKBdkKBdkKBdkKBdkKBdkKBdkKBdkKBdkKBdkKBdkKBdkKBdkKBdkKBdkKBdk/gbLS96Kzdo4/gAAAABJRU5ErkJggg==\" y=\"-210.487243\"/>\r\n   </g>\r\n   <g id=\"text_5\">\r\n    <!-- [0. 0. 0. 0. 0. 0. 0. 0. 0. 1.] -->\r\n    <g transform=\"translate(195.6 204.718125)scale(0.12 -0.12)\">\r\n     <use xlink:href=\"#DejaVuSans-91\"/>\r\n     <use x=\"39.013672\" xlink:href=\"#DejaVuSans-48\"/>\r\n     <use x=\"102.636719\" xlink:href=\"#DejaVuSans-46\"/>\r\n     <use x=\"134.423828\" xlink:href=\"#DejaVuSans-32\"/>\r\n     <use x=\"166.210938\" xlink:href=\"#DejaVuSans-48\"/>\r\n     <use x=\"229.833984\" xlink:href=\"#DejaVuSans-46\"/>\r\n     <use x=\"261.621094\" xlink:href=\"#DejaVuSans-32\"/>\r\n     <use x=\"293.408203\" xlink:href=\"#DejaVuSans-48\"/>\r\n     <use x=\"357.03125\" xlink:href=\"#DejaVuSans-46\"/>\r\n     <use x=\"388.818359\" xlink:href=\"#DejaVuSans-32\"/>\r\n     <use x=\"420.605469\" xlink:href=\"#DejaVuSans-48\"/>\r\n     <use x=\"484.228516\" xlink:href=\"#DejaVuSans-46\"/>\r\n     <use x=\"516.015625\" xlink:href=\"#DejaVuSans-32\"/>\r\n     <use x=\"547.802734\" xlink:href=\"#DejaVuSans-48\"/>\r\n     <use x=\"611.425781\" xlink:href=\"#DejaVuSans-46\"/>\r\n     <use x=\"643.212891\" xlink:href=\"#DejaVuSans-32\"/>\r\n     <use x=\"675\" xlink:href=\"#DejaVuSans-48\"/>\r\n     <use x=\"738.623047\" xlink:href=\"#DejaVuSans-46\"/>\r\n     <use x=\"770.410156\" xlink:href=\"#DejaVuSans-32\"/>\r\n     <use x=\"802.197266\" xlink:href=\"#DejaVuSans-48\"/>\r\n     <use x=\"865.820312\" xlink:href=\"#DejaVuSans-46\"/>\r\n     <use x=\"897.607422\" xlink:href=\"#DejaVuSans-32\"/>\r\n     <use x=\"929.394531\" xlink:href=\"#DejaVuSans-48\"/>\r\n     <use x=\"993.017578\" xlink:href=\"#DejaVuSans-46\"/>\r\n     <use x=\"1024.804688\" xlink:href=\"#DejaVuSans-32\"/>\r\n     <use x=\"1056.591797\" xlink:href=\"#DejaVuSans-48\"/>\r\n     <use x=\"1120.214844\" xlink:href=\"#DejaVuSans-46\"/>\r\n     <use x=\"1152.001953\" xlink:href=\"#DejaVuSans-32\"/>\r\n     <use x=\"1183.789062\" xlink:href=\"#DejaVuSans-49\"/>\r\n     <use x=\"1247.412109\" xlink:href=\"#DejaVuSans-46\"/>\r\n     <use x=\"1279.199219\" xlink:href=\"#DejaVuSans-93\"/>\r\n    </g>\r\n   </g>\r\n  </g>\r\n  <g id=\"axes_6\">\r\n   <g clip-path=\"url(#p0e89c70b9c)\">\r\n    <image height=\"151\" id=\"imageb28b78401c\" transform=\"scale(1 -1)translate(0 -151)\" width=\"151\" x=\"387.702941\" xlink:href=\"data:image/png;base64,\r\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\" y=\"-210.487243\"/>\r\n   </g>\r\n   <g id=\"text_6\">\r\n    <!-- [0. 0. 1. 0. 0. 0. 0. 0. 0. 0.] -->\r\n    <g transform=\"translate(384 204.718125)scale(0.12 -0.12)\">\r\n     <use xlink:href=\"#DejaVuSans-91\"/>\r\n     <use x=\"39.013672\" xlink:href=\"#DejaVuSans-48\"/>\r\n     <use x=\"102.636719\" xlink:href=\"#DejaVuSans-46\"/>\r\n     <use x=\"134.423828\" xlink:href=\"#DejaVuSans-32\"/>\r\n     <use x=\"166.210938\" xlink:href=\"#DejaVuSans-48\"/>\r\n     <use x=\"229.833984\" xlink:href=\"#DejaVuSans-46\"/>\r\n     <use x=\"261.621094\" xlink:href=\"#DejaVuSans-32\"/>\r\n     <use x=\"293.408203\" xlink:href=\"#DejaVuSans-49\"/>\r\n     <use x=\"357.03125\" xlink:href=\"#DejaVuSans-46\"/>\r\n     <use x=\"388.818359\" xlink:href=\"#DejaVuSans-32\"/>\r\n     <use x=\"420.605469\" xlink:href=\"#DejaVuSans-48\"/>\r\n     <use x=\"484.228516\" xlink:href=\"#DejaVuSans-46\"/>\r\n     <use x=\"516.015625\" xlink:href=\"#DejaVuSans-32\"/>\r\n     <use x=\"547.802734\" xlink:href=\"#DejaVuSans-48\"/>\r\n     <use x=\"611.425781\" xlink:href=\"#DejaVuSans-46\"/>\r\n     <use x=\"643.212891\" xlink:href=\"#DejaVuSans-32\"/>\r\n     <use x=\"675\" xlink:href=\"#DejaVuSans-48\"/>\r\n     <use x=\"738.623047\" xlink:href=\"#DejaVuSans-46\"/>\r\n     <use x=\"770.410156\" xlink:href=\"#DejaVuSans-32\"/>\r\n     <use x=\"802.197266\" xlink:href=\"#DejaVuSans-48\"/>\r\n     <use x=\"865.820312\" xlink:href=\"#DejaVuSans-46\"/>\r\n     <use x=\"897.607422\" xlink:href=\"#DejaVuSans-32\"/>\r\n     <use x=\"929.394531\" xlink:href=\"#DejaVuSans-48\"/>\r\n     <use x=\"993.017578\" xlink:href=\"#DejaVuSans-46\"/>\r\n     <use x=\"1024.804688\" xlink:href=\"#DejaVuSans-32\"/>\r\n     <use x=\"1056.591797\" xlink:href=\"#DejaVuSans-48\"/>\r\n     <use x=\"1120.214844\" xlink:href=\"#DejaVuSans-46\"/>\r\n     <use x=\"1152.001953\" xlink:href=\"#DejaVuSans-32\"/>\r\n     <use x=\"1183.789062\" xlink:href=\"#DejaVuSans-48\"/>\r\n     <use x=\"1247.412109\" xlink:href=\"#DejaVuSans-46\"/>\r\n     <use x=\"1279.199219\" xlink:href=\"#DejaVuSans-93\"/>\r\n    </g>\r\n   </g>\r\n  </g>\r\n  <g id=\"axes_7\"/>\r\n  <g id=\"axes_8\"/>\r\n  <g id=\"axes_9\"/>\r\n </g>\r\n <defs>\r\n  <clipPath id=\"pa3fb4541d3\">\r\n   <rect height=\"150.769118\" width=\"150.769118\" x=\"10.902941\" y=\"22.318125\"/>\r\n  </clipPath>\r\n  <clipPath id=\"p3b8a22a754\">\r\n   <rect height=\"150.769118\" width=\"150.769118\" x=\"199.302941\" y=\"22.318125\"/>\r\n  </clipPath>\r\n  <clipPath id=\"p48df52709a\">\r\n   <rect height=\"150.769118\" width=\"150.769118\" x=\"387.702941\" y=\"22.318125\"/>\r\n  </clipPath>\r\n  <clipPath id=\"pa05dc4e1b9\">\r\n   <rect height=\"150.769118\" width=\"150.769118\" x=\"10.902941\" y=\"210.718125\"/>\r\n  </clipPath>\r\n  <clipPath id=\"p6375a50044\">\r\n   <rect height=\"150.769118\" width=\"150.769118\" x=\"199.302941\" y=\"210.718125\"/>\r\n  </clipPath>\r\n  <clipPath id=\"p0e89c70b9c\">\r\n   <rect height=\"150.769118\" width=\"150.769118\" x=\"387.702941\" y=\"210.718125\"/>\r\n  </clipPath>\r\n </defs>\r\n</svg>\r\n",
      "text/plain": "<Figure size 576x576 with 9 Axes>"
     },
     "metadata": {
      "needs_background": "light"
     },
     "output_type": "display_data"
    },
    {
     "data": {
      "text/plain": "0"
     },
     "execution_count": 5,
     "metadata": {},
     "output_type": "execute_result"
    }
   ],
   "source": [
    "n_images_to_draw = 6\n",
    "utils.drawImages(x_train[:n_images_to_draw], y_train[:n_images_to_draw])"
   ]
  },
  {
   "cell_type": "code",
   "execution_count": 6,
   "metadata": {},
   "outputs": [],
   "source": [
    "def train(model, train_data, x_test, y_test, loss_op, optimization, epochs):\n",
    "    train_loss = tf.keras.metrics.Mean(name='train_loss')\n",
    "    train_accuracy = tf.keras.metrics.CategoricalAccuracy(name='train_accuracy')\n",
    "    test_loss = tf.keras.metrics.Mean(name='test_loss')\n",
    "    test_accuracy = tf.keras.metrics.CategoricalAccuracy(name='test_accuracy')\n",
    "\n",
    "    n_batches = len(train_data)\n",
    "\n",
    "    for epoch in range(epochs):\n",
    "        n_batch = 0\n",
    "        for x, y in train_data:\n",
    "            n_batch+=1\n",
    "            template = '[Batch {}/{}] Loss: {:.3f}, Accuracy: {:.2%}'\n",
    "            print(template.format(n_batch, n_batches, train_loss.result(), train_accuracy.result()), end='\\r')\n",
    "            trainStep(model, x, y, loss_op, optimization, train_loss, train_accuracy)\n",
    "            \n",
    "            if n_batch >= n_batches:\n",
    "                # we need to break the loop by hand because\n",
    "                # the generator loops indefinitely\n",
    "                break\n",
    "\n",
    "        testStep(model, x_test, y_test, loss_op, test_loss, test_accuracy)\n",
    "\n",
    "        template = '\\n[Epoch {}/{}] Loss: {:.3f}, Accuracy: {:.2%}, Test Loss: {:.3f}, Test Accuracy: {:.2%}'\n",
    "        print(template.format(epoch+1, epochs, train_loss.result(), train_accuracy.result(),\n",
    "                test_loss.result(), test_accuracy.result()))\n",
    "\n",
    "        # Reset the metrics for the next epoch\n",
    "        train_loss.reset_states()\n",
    "        train_accuracy.reset_states()\n",
    "        test_loss.reset_states()\n",
    "        test_accuracy.reset_states()\n",
    "\n",
    "    return model"
   ]
  },
  {
   "cell_type": "code",
   "execution_count": 21,
   "metadata": {},
   "outputs": [],
   "source": [
    "data_shape = x_train.shape[1:]\n",
    "\n",
    "learning_rate = 0.1\n",
    "n_epochs = 5\n",
    "n_batch_size = 128\n",
    "\n",
    "loss_op = keras.losses.CategoricalCrossentropy()\n",
    "optimizer = keras.optimizers.Adam(lr=learning_rate)"
   ]
  },
  {
   "cell_type": "code",
   "execution_count": 22,
   "metadata": {},
   "outputs": [
    {
     "name": "stdout",
     "output_type": "stream",
     "text": "Model: \"sequential_4\"\n_________________________________________________________________\nLayer (type)                 Output Shape              Param #   \n=================================================================\nconv2d_12 (Conv2D)           (None, 26, 26, 32)        320       \n_________________________________________________________________\nmax_pooling2d_8 (MaxPooling2 (None, 13, 13, 32)        0         \n_________________________________________________________________\nconv2d_13 (Conv2D)           (None, 11, 11, 64)        18496     \n_________________________________________________________________\nmax_pooling2d_9 (MaxPooling2 (None, 5, 5, 64)          0         \n_________________________________________________________________\nconv2d_14 (Conv2D)           (None, 3, 3, 64)          36928     \n_________________________________________________________________\nflatten_4 (Flatten)          (None, 576)               0         \n_________________________________________________________________\ndense_8 (Dense)              (None, 128)               73856     \n_________________________________________________________________\ndense_9 (Dense)              (None, 10)                1290      \n=================================================================\nTotal params: 130,890\nTrainable params: 130,890\nNon-trainable params: 0\n_________________________________________________________________\n"
    }
   ],
   "source": [
    "# First train a normal 2D conv network\n",
    "model = keras.models.Sequential()\n",
    "\n",
    "model.add(layers.Conv2D(32, (3, 3), activation='relu', input_shape=(data_shape[0], data_shape[1], data_shape[2])))\n",
    "model.add(layers.MaxPooling2D((2, 2)))\n",
    "model.add(layers.Conv2D(64, (3, 3), activation='relu'))\n",
    "model.add(layers.MaxPooling2D((2, 2)))\n",
    "model.add(layers.Conv2D(64, (3, 3), activation='relu'))\n",
    "model.add(layers.Flatten())\n",
    "model.add(layers.Dense(128, activation='relu'))\n",
    "model.add(layers.Dense(10, activation='softmax'))\n",
    "\n",
    "model.summary()"
   ]
  },
  {
   "cell_type": "code",
   "execution_count": 14,
   "metadata": {},
   "outputs": [
    {
     "ename": "NameError",
     "evalue": "name 'train_data' is not defined",
     "output_type": "error",
     "traceback": [
      "\u001b[1;31m---------------------------------------------------------------------------\u001b[0m",
      "\u001b[1;31mNameError\u001b[0m                                 Traceback (most recent call last)",
      "\u001b[1;32m<ipython-input-14-58bc41725cda>\u001b[0m in \u001b[0;36m<module>\u001b[1;34m\u001b[0m\n\u001b[1;32m----> 1\u001b[1;33m \u001b[0mtrain\u001b[0m\u001b[1;33m(\u001b[0m\u001b[0mmodel\u001b[0m\u001b[1;33m,\u001b[0m \u001b[0mtrain_data\u001b[0m\u001b[1;33m,\u001b[0m \u001b[0mx_test\u001b[0m\u001b[1;33m,\u001b[0m \u001b[0my_test\u001b[0m\u001b[1;33m,\u001b[0m \u001b[0mloss_op\u001b[0m\u001b[1;33m,\u001b[0m \u001b[0moptimizer\u001b[0m\u001b[1;33m,\u001b[0m \u001b[0mn_epochs\u001b[0m\u001b[1;33m)\u001b[0m\u001b[1;33m\u001b[0m\u001b[1;33m\u001b[0m\u001b[0m\n\u001b[0m",
      "\u001b[1;31mNameError\u001b[0m: name 'train_data' is not defined"
     ]
    }
   ],
   "source": [
    "train(model, train_data, x_test, y_test, loss_op, optimizer, n_epochs)"
   ]
  },
  {
   "cell_type": "code",
   "execution_count": 23,
   "metadata": {},
   "outputs": [
    {
     "name": "stdout",
     "output_type": "stream",
     "text": "Train on 60000 samples, validate on 10000 samples\nEpoch 1/5\n60000/60000 [==============================] - 27s 444us/sample - loss: 0.2458 - accuracy: 0.9268 - val_loss: 0.0560 - val_accuracy: 0.9820\nEpoch 2/5\n60000/60000 [==============================] - 28s 462us/sample - loss: 0.0575 - accuracy: 0.9821 - val_loss: 0.0366 - val_accuracy: 0.9879\nEpoch 3/5\n60000/60000 [==============================] - 32s 531us/sample - loss: 0.0395 - accuracy: 0.9878 - val_loss: 0.0294 - val_accuracy: 0.9904\nEpoch 4/5\n60000/60000 [==============================] - 31s 510us/sample - loss: 0.0315 - accuracy: 0.9899 - val_loss: 0.0392 - val_accuracy: 0.9864\nEpoch 5/5\n20480/60000 [=========>....................] - ETA: 19s - loss: 0.0259 - accuracy: 0.9921"
    }
   ],
   "source": [
    "# model.compile(optimizer=optimizer,\n",
    "#               loss=loss_op,\n",
    "#             #   loss='categorical_crossentropy',\n",
    "#               metrics=['accuracy'])\n",
    "\n",
    "model.compile(optimizer='adam',\n",
    "              loss='categorical_crossentropy',\n",
    "              metrics=['accuracy'])\n",
    "\n",
    "model.fit(x_train, y_train, epochs=n_epochs, batch_size=n_batch_size, validation_data=(x_test, y_test))"
   ]
  },
  {
   "cell_type": "code",
   "execution_count": null,
   "metadata": {},
   "outputs": [],
   "source": []
  }
 ]
}